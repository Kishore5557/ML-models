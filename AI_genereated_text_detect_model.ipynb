{
 "cells": [
  {
   "cell_type": "markdown",
   "metadata": {},
   "source": [
    "# Ml model to detect AI generated text"
   ]
  },
  {
   "cell_type": "code",
   "execution_count": 1,
   "metadata": {},
   "outputs": [],
   "source": [
    "import pandas as pd \n",
    "import seaborn as sns\n",
    "import matplotlib as plt\n",
    "import tensorflow as tf\n",
    "from sklearn.model_selection import train_test_split"
   ]
  },
  {
   "cell_type": "code",
   "execution_count": 2,
   "metadata": {},
   "outputs": [],
   "source": [
    "from keras.models import Sequential\n",
    "\n",
    "from keras.layers import*\n",
    "import tensorflow_hub as hub\n"
   ]
  },
  {
   "cell_type": "code",
   "execution_count": 3,
   "metadata": {},
   "outputs": [
    {
     "name": "stdout",
     "output_type": "stream",
     "text": [
      "<class 'pandas.core.frame.DataFrame'>\n",
      "RangeIndex: 1378 entries, 0 to 1377\n",
      "Data columns (total 4 columns):\n",
      " #   Column     Non-Null Count  Dtype \n",
      "---  ------     --------------  ----- \n",
      " 0   id         1378 non-null   object\n",
      " 1   prompt_id  1378 non-null   int64 \n",
      " 2   text       1378 non-null   object\n",
      " 3   generated  1378 non-null   int64 \n",
      "dtypes: int64(2), object(2)\n",
      "memory usage: 43.2+ KB\n"
     ]
    },
    {
     "data": {
      "text/html": [
       "<div>\n",
       "<style scoped>\n",
       "    .dataframe tbody tr th:only-of-type {\n",
       "        vertical-align: middle;\n",
       "    }\n",
       "\n",
       "    .dataframe tbody tr th {\n",
       "        vertical-align: top;\n",
       "    }\n",
       "\n",
       "    .dataframe thead th {\n",
       "        text-align: right;\n",
       "    }\n",
       "</style>\n",
       "<table border=\"1\" class=\"dataframe\">\n",
       "  <thead>\n",
       "    <tr style=\"text-align: right;\">\n",
       "      <th></th>\n",
       "      <th>id</th>\n",
       "      <th>prompt_id</th>\n",
       "      <th>text</th>\n",
       "      <th>generated</th>\n",
       "    </tr>\n",
       "  </thead>\n",
       "  <tbody>\n",
       "    <tr>\n",
       "      <th>0</th>\n",
       "      <td>0059830c</td>\n",
       "      <td>0</td>\n",
       "      <td>Cars. Cars have been around since they became ...</td>\n",
       "      <td>0</td>\n",
       "    </tr>\n",
       "    <tr>\n",
       "      <th>1</th>\n",
       "      <td>005db917</td>\n",
       "      <td>0</td>\n",
       "      <td>Transportation is a large necessity in most co...</td>\n",
       "      <td>0</td>\n",
       "    </tr>\n",
       "    <tr>\n",
       "      <th>2</th>\n",
       "      <td>008f63e3</td>\n",
       "      <td>0</td>\n",
       "      <td>\"America's love affair with it's vehicles seem...</td>\n",
       "      <td>0</td>\n",
       "    </tr>\n",
       "    <tr>\n",
       "      <th>3</th>\n",
       "      <td>00940276</td>\n",
       "      <td>0</td>\n",
       "      <td>How often do you ride in a car? Do you drive a...</td>\n",
       "      <td>0</td>\n",
       "    </tr>\n",
       "    <tr>\n",
       "      <th>4</th>\n",
       "      <td>00c39458</td>\n",
       "      <td>0</td>\n",
       "      <td>Cars are a wonderful thing. They are perhaps o...</td>\n",
       "      <td>0</td>\n",
       "    </tr>\n",
       "    <tr>\n",
       "      <th>...</th>\n",
       "      <td>...</td>\n",
       "      <td>...</td>\n",
       "      <td>...</td>\n",
       "      <td>...</td>\n",
       "    </tr>\n",
       "    <tr>\n",
       "      <th>1373</th>\n",
       "      <td>fe6ff9a5</td>\n",
       "      <td>1</td>\n",
       "      <td>There has been a fuss about the Elector Colleg...</td>\n",
       "      <td>0</td>\n",
       "    </tr>\n",
       "    <tr>\n",
       "      <th>1374</th>\n",
       "      <td>ff669174</td>\n",
       "      <td>0</td>\n",
       "      <td>Limiting car usage has many advantages. Such a...</td>\n",
       "      <td>0</td>\n",
       "    </tr>\n",
       "    <tr>\n",
       "      <th>1375</th>\n",
       "      <td>ffa247e0</td>\n",
       "      <td>0</td>\n",
       "      <td>There's a new trend that has been developing f...</td>\n",
       "      <td>0</td>\n",
       "    </tr>\n",
       "    <tr>\n",
       "      <th>1376</th>\n",
       "      <td>ffc237e9</td>\n",
       "      <td>0</td>\n",
       "      <td>As we all know cars are a big part of our soci...</td>\n",
       "      <td>0</td>\n",
       "    </tr>\n",
       "    <tr>\n",
       "      <th>1377</th>\n",
       "      <td>ffe1ca0d</td>\n",
       "      <td>0</td>\n",
       "      <td>Cars have been around since the 1800's and hav...</td>\n",
       "      <td>0</td>\n",
       "    </tr>\n",
       "  </tbody>\n",
       "</table>\n",
       "<p>1378 rows × 4 columns</p>\n",
       "</div>"
      ],
      "text/plain": [
       "            id  prompt_id                                               text  \\\n",
       "0     0059830c          0  Cars. Cars have been around since they became ...   \n",
       "1     005db917          0  Transportation is a large necessity in most co...   \n",
       "2     008f63e3          0  \"America's love affair with it's vehicles seem...   \n",
       "3     00940276          0  How often do you ride in a car? Do you drive a...   \n",
       "4     00c39458          0  Cars are a wonderful thing. They are perhaps o...   \n",
       "...        ...        ...                                                ...   \n",
       "1373  fe6ff9a5          1  There has been a fuss about the Elector Colleg...   \n",
       "1374  ff669174          0  Limiting car usage has many advantages. Such a...   \n",
       "1375  ffa247e0          0  There's a new trend that has been developing f...   \n",
       "1376  ffc237e9          0  As we all know cars are a big part of our soci...   \n",
       "1377  ffe1ca0d          0  Cars have been around since the 1800's and hav...   \n",
       "\n",
       "      generated  \n",
       "0             0  \n",
       "1             0  \n",
       "2             0  \n",
       "3             0  \n",
       "4             0  \n",
       "...         ...  \n",
       "1373          0  \n",
       "1374          0  \n",
       "1375          0  \n",
       "1376          0  \n",
       "1377          0  \n",
       "\n",
       "[1378 rows x 4 columns]"
      ]
     },
     "execution_count": 3,
     "metadata": {},
     "output_type": "execute_result"
    }
   ],
   "source": [
    "data1=pd.read_csv(\"D:/kaggle/train_essays.csv\")\n",
    "data1.info()\n",
    "data1"
   ]
  },
  {
   "cell_type": "code",
   "execution_count": 4,
   "metadata": {},
   "outputs": [
    {
     "data": {
      "text/plain": [
       "Text(0.5, 1.0, 'Generated Text')"
      ]
     },
     "execution_count": 4,
     "metadata": {},
     "output_type": "execute_result"
    },
    {
     "data": {
      "image/png": "[encoded data removed]",
      "text/plain": [
       "<Figure size 640x480 with 1 Axes>"
      ]
     },
     "metadata": {},
     "output_type": "display_data"
    }
   ],
   "source": [
    "dist=sns.countplot(data=data1,x=\"generated\")\n",
    "dist.set_title(\"Generated Text\")"
   ]
  },
  {
   "cell_type": "code",
   "execution_count": 5,
   "metadata": {},
   "outputs": [
    {
     "name": "stdout",
     "output_type": "stream",
     "text": [
      "<bound method DataFrame.isnull of                  essay_id                                               text  \\\n",
      "0            6BB4BEB51A80  People can learn without making mistakes. Peop...   \n",
      "1            30A8FB981469  PHONES AND DRIVING\\n\\nIn this world in which w...   \n",
      "2            B403A4E28BCE  Okay, here's my essay:\\n\\nMaking Your Own Deci...   \n",
      "3            B8F0ECC9DC86   Dear : Principal\\n\\nI believe that allowing s...   \n",
      "4            159424F57C24  Well for one if you seek more then one person ...   \n",
      "...                   ...                                                ...   \n",
      "42201        F7341069C4A4  \"Oh man I didn't make the soccer team!\", yelle...   \n",
      "42202        AFE6E553DAC2  I believe that using this technology could be ...   \n",
      "42203  falcon_180b_v1_600  The Face on Mars is a fascinating phenomenon t...   \n",
      "42204        A5F84C104693  Texting & Driving\\n\\nUsing your phone while dr...   \n",
      "42205        A148C659E98B  Dear Principal,\\n\\nI have been really good thi...   \n",
      "\n",
      "       label                source  \\\n",
      "0          0         original_moth   \n",
      "1          0       persuade_corpus   \n",
      "2          1           llama2_chat   \n",
      "3          1  mistral7binstruct_v2   \n",
      "4          0       persuade_corpus   \n",
      "...      ...                   ...   \n",
      "42201      0       persuade_corpus   \n",
      "42202      0       persuade_corpus   \n",
      "42203      1        falcon_180b_v1   \n",
      "42204      0       persuade_corpus   \n",
      "42205      0       persuade_corpus   \n",
      "\n",
      "                                                  prompt  fold  \n",
      "0      Task: \\n\\nWrite an essay examining the ways in...     1  \n",
      "1                                                    NaN     2  \n",
      "2      Task: Write an essay exploring why teenagers s...     8  \n",
      "3      \\nTask: Should students be encouraged to parti...     8  \n",
      "4                                                    NaN     8  \n",
      "...                                                  ...   ...  \n",
      "42201                                                NaN     7  \n",
      "42202                                                NaN     8  \n",
      "42203  You have read the article 'Unmasking the Face ...     6  \n",
      "42204                                                NaN     1  \n",
      "42205                                                NaN     4  \n",
      "\n",
      "[42206 rows x 6 columns]>\n"
     ]
    }
   ],
   "source": [
    "#Due to insufficient data, we are using external data file\n",
    "#\n",
    "df=pd.read_csv(\"D:/kaggle/train_drcat_03.csv\")\n",
    "#df.info\n",
    "print(df.isnull)\n"
   ]
  },
  {
   "cell_type": "code",
   "execution_count": 6,
   "metadata": {},
   "outputs": [
    {
     "data": {
      "text/plain": [
       "label\n",
       "0    29792\n",
       "1    12414\n",
       "Name: count, dtype: int64"
      ]
     },
     "execution_count": 6,
     "metadata": {},
     "output_type": "execute_result"
    },
    {
     "data": {
      "image/png": "[encoded data removed]",
      "text/plain": [
       "<Figure size 640x480 with 1 Axes>"
      ]
     },
     "metadata": {},
     "output_type": "display_data"
    }
   ],
   "source": [
    "sns.countplot(data=df, x=\"label\").set_title(\"Generated Text\")\n",
    "\n",
    "df.label.value_counts()"
   ]
  },
  {
   "cell_type": "code",
   "execution_count": 7,
   "metadata": {},
   "outputs": [
    {
     "name": "stdout",
     "output_type": "stream",
     "text": [
      "label\n",
      "0    12414\n",
      "1    12414\n",
      "Name: count, dtype: int64\n"
     ]
    },
    {
     "data": {
      "text/plain": [
       "Text(0.5, 1.0, 'Generated')"
      ]
     },
     "execution_count": 7,
     "metadata": {},
     "output_type": "execute_result"
    },
    {
     "data": {
      "image/png": "[encoded data removed]",
      "text/plain": [
       "<Figure size 640x480 with 1 Axes>"
      ]
     },
     "metadata": {},
     "output_type": "display_data"
    }
   ],
   "source": [
    "# Converting imbalance data to balance data using Down sampling\n",
    "df_hum=df[df['label']==0]\n",
    "df_ai=df[df['label']==1]\n",
    "df_hum_downsampled=df_hum.sample(df_ai.shape[0])\n",
    "df_balanced=pd.concat([df_hum_downsampled,df_ai])\n",
    "print(df_balanced.label.value_counts())\n",
    "sns.countplot(data=df_balanced,x='label').set_title(\"Generated\")"
   ]
  },
  {
   "cell_type": "code",
   "execution_count": 8,
   "metadata": {},
   "outputs": [
    {
     "data": {
      "text/plain": [
       "Text(0.5, 1.0, 'Generated')"
      ]
     },
     "execution_count": 8,
     "metadata": {},
     "output_type": "execute_result"
    },
    {
     "data": {
      "image/png": "[encoded data removed]",
      "text/plain": [
       "<Figure size 640x480 with 1 Axes>"
      ]
     },
     "metadata": {},
     "output_type": "display_data"
    }
   ],
   "source": [
    "df_balanced.drop(['essay_id','fold'],axis=1,inplace=True)\n",
    "final_data=df_balanced.fillna(\"None\")\n",
    "sns.countplot(data=final_data,x='label').set_title(\"Generated\")"
   ]
  },
  {
   "cell_type": "code",
   "execution_count": 15,
   "metadata": {},
   "outputs": [
    {
     "data": {
      "text/html": [
       "<div>\n",
       "<style scoped>\n",
       "    .dataframe tbody tr th:only-of-type {\n",
       "        vertical-align: middle;\n",
       "    }\n",
       "\n",
       "    .dataframe tbody tr th {\n",
       "        vertical-align: top;\n",
       "    }\n",
       "\n",
       "    .dataframe thead th {\n",
       "        text-align: right;\n",
       "    }\n",
       "</style>\n",
       "<table border=\"1\" class=\"dataframe\">\n",
       "  <thead>\n",
       "    <tr style=\"text-align: right;\">\n",
       "      <th></th>\n",
       "      <th>text</th>\n",
       "      <th>label</th>\n",
       "      <th>source</th>\n",
       "      <th>prompt</th>\n",
       "    </tr>\n",
       "  </thead>\n",
       "  <tbody>\n",
       "    <tr>\n",
       "      <th>25377</th>\n",
       "      <td>All around the world, cars have influence our ...</td>\n",
       "      <td>0</td>\n",
       "      <td>persuade_corpus</td>\n",
       "      <td>None</td>\n",
       "    </tr>\n",
       "    <tr>\n",
       "      <th>8146</th>\n",
       "      <td>When asking for advice on any topic don't just...</td>\n",
       "      <td>0</td>\n",
       "      <td>persuade_corpus</td>\n",
       "      <td>None</td>\n",
       "    </tr>\n",
       "    <tr>\n",
       "      <th>7087</th>\n",
       "      <td>The argument of keeping The Electoral College ...</td>\n",
       "      <td>0</td>\n",
       "      <td>persuade_corpus</td>\n",
       "      <td>None</td>\n",
       "    </tr>\n",
       "    <tr>\n",
       "      <th>6366</th>\n",
       "      <td>Texting and driving has become a huge problem ...</td>\n",
       "      <td>0</td>\n",
       "      <td>persuade_corpus</td>\n",
       "      <td>None</td>\n",
       "    </tr>\n",
       "    <tr>\n",
       "      <th>32289</th>\n",
       "      <td>In the year 2000 there was a presidential elec...</td>\n",
       "      <td>0</td>\n",
       "      <td>train_essays</td>\n",
       "      <td>None</td>\n",
       "    </tr>\n",
       "    <tr>\n",
       "      <th>...</th>\n",
       "      <td>...</td>\n",
       "      <td>...</td>\n",
       "      <td>...</td>\n",
       "      <td>...</td>\n",
       "    </tr>\n",
       "    <tr>\n",
       "      <th>42190</th>\n",
       "      <td>I think our principal's idea of making us do e...</td>\n",
       "      <td>1</td>\n",
       "      <td>llama_70b_v1</td>\n",
       "      <td>Your principal has decided that all students m...</td>\n",
       "    </tr>\n",
       "    <tr>\n",
       "      <th>42191</th>\n",
       "      <td>I think it's a good idea for schools to have o...</td>\n",
       "      <td>1</td>\n",
       "      <td>falcon_180b_v1</td>\n",
       "      <td>Some schools have implemented policies that al...</td>\n",
       "    </tr>\n",
       "    <tr>\n",
       "      <th>42196</th>\n",
       "      <td>Students often debate whether inactivity or s...</td>\n",
       "      <td>1</td>\n",
       "      <td>mistral7binstruct_v2</td>\n",
       "      <td>\\nTask: Research the benefits of staying occup...</td>\n",
       "    </tr>\n",
       "    <tr>\n",
       "      <th>42199</th>\n",
       "      <td>Advantages of Limiting Car Usage\\n\\nLimiting c...</td>\n",
       "      <td>1</td>\n",
       "      <td>radek_500</td>\n",
       "      <td>None</td>\n",
       "    </tr>\n",
       "    <tr>\n",
       "      <th>42203</th>\n",
       "      <td>The Face on Mars is a fascinating phenomenon t...</td>\n",
       "      <td>1</td>\n",
       "      <td>falcon_180b_v1</td>\n",
       "      <td>You have read the article 'Unmasking the Face ...</td>\n",
       "    </tr>\n",
       "  </tbody>\n",
       "</table>\n",
       "<p>24828 rows × 4 columns</p>\n",
       "</div>"
      ],
      "text/plain": [
       "                                                    text  label  \\\n",
       "25377  All around the world, cars have influence our ...      0   \n",
       "8146   When asking for advice on any topic don't just...      0   \n",
       "7087   The argument of keeping The Electoral College ...      0   \n",
       "6366   Texting and driving has become a huge problem ...      0   \n",
       "32289  In the year 2000 there was a presidential elec...      0   \n",
       "...                                                  ...    ...   \n",
       "42190  I think our principal's idea of making us do e...      1   \n",
       "42191  I think it's a good idea for schools to have o...      1   \n",
       "42196   Students often debate whether inactivity or s...      1   \n",
       "42199  Advantages of Limiting Car Usage\\n\\nLimiting c...      1   \n",
       "42203  The Face on Mars is a fascinating phenomenon t...      1   \n",
       "\n",
       "                     source                                             prompt  \n",
       "25377       persuade_corpus                                               None  \n",
       "8146        persuade_corpus                                               None  \n",
       "7087        persuade_corpus                                               None  \n",
       "6366        persuade_corpus                                               None  \n",
       "32289          train_essays                                               None  \n",
       "...                     ...                                                ...  \n",
       "42190          llama_70b_v1  Your principal has decided that all students m...  \n",
       "42191        falcon_180b_v1  Some schools have implemented policies that al...  \n",
       "42196  mistral7binstruct_v2  \\nTask: Research the benefits of staying occup...  \n",
       "42199             radek_500                                               None  \n",
       "42203        falcon_180b_v1  You have read the article 'Unmasking the Face ...  \n",
       "\n",
       "[24828 rows x 4 columns]"
      ]
     },
     "execution_count": 15,
     "metadata": {},
     "output_type": "execute_result"
    }
   ],
   "source": [
    "final_data"
   ]
  },
  {
   "cell_type": "code",
   "execution_count": null,
   "metadata": {},
   "outputs": [],
   "source": [
    "#It takes hours to preprocess the entire data. So I'm trimming it to 100\n",
    "df=final_data\n",
    "df_zeroes = df[df['label'] == 0]\n",
    "df_ones = df[df['label'] == 1]\n",
    "\n",
    "# Sample 100 rows from each DataFrame\n",
    "df_zeroes_sampled = df_zeroes.sample(n=100, random_state=42)\n",
    "df_ones_sampled = df_ones.sample(n=100, random_state=42)\n",
    "df_sampled = pd.concat([df_zeroes_sampled, df_ones_sampled])"
   ]
  },
  {
   "cell_type": "code",
   "execution_count": 10,
   "metadata": {},
   "outputs": [],
   "source": [
    "#features=final_data.drop('label',axis=1)\n",
    "#labels=final_data['label']\n",
    "features=df_sampled.drop('label',axis=1)\n",
    "labels=df_sampled['label']\n",
    "x_train, x_test, y_train, y_test = train_test_split(features,labels,test_size=0.4,random_state=42)\n",
    "x_test,x_val,y_test,y_val=train_test_split(x_test,y_test,test_size=0.5,random_state=42)"
   ]
  },
  {
   "cell_type": "code",
   "execution_count": 11,
   "metadata": {},
   "outputs": [],
   "source": [
    "import tensorflow_text as text\n",
    "import tensorflow_hub as hub\n",
    "bert_preprocess = hub.KerasLayer(\n",
    "    \"https://kaggle.com/models/tensorflow/bert/frameworks/TensorFlow2/variations/en-uncased-preprocess/versions/3\")\n",
    "bert_encoder = hub.KerasLayer(\n",
    "    \"https://kaggle.com/models/tensorflow/bert/frameworks/TensorFlow2/variations/en-uncased-l-12-h-768-a-12/versions/3\",\n",
    "    trainable=True)\n"
   ]
  },
  {
   "cell_type": "code",
   "execution_count": 12,
   "metadata": {},
   "outputs": [],
   "source": [
    "import numpy as np\n",
    "x_train_text = x_train[['prompt','text','source']].values.tolist()\n",
    "x_test_text = x_test[['prompt','text','source']].values.tolist()\n",
    "\n",
    "# Convert the input data to NumPy arrays\n",
    "x_train_text = np.array(x_train_text)\n",
    "y_train = np.array(y_train)\n",
    "\n",
    "\n",
    "# Bert layer. preprocess-->encodes\n",
    "text_input = tf.keras.layers.Input(shape=(3,), dtype=tf.string, name='text')  # Adjusting the shape to match the number of text columns\n",
    "preprocessed_text = bert_preprocess(text_input[:, 0])  \n",
    "outputs = bert_encoder(preprocessed_text)\n",
    "\n",
    "# Neural layer\n",
    "dropout_output = tf.keras.layers.Dropout(0.1, name=\"dropout\")(outputs['pooled_output'])\n",
    "op = tf.keras.layers.Dense(1, activation=None, name=\"output\")(outputs['pooled_output'])\n",
    "\n",
    "# Use inputs and outputs to construct a final model\n",
    "model1 = tf.keras.Model(inputs=[text_input], outputs=[op])\n",
    "\n",
    "METRICS = [\n",
    "    tf.keras.metrics.BinaryAccuracy(name='accuracy'),\n",
    "    tf.keras.metrics.Precision(name='precision'),\n",
    "    tf.keras.metrics.Recall(name='recall')\n",
    "]\n",
    "\n",
    "model1.compile(optimizer='adam', loss='binary_crossentropy', metrics=METRICS)\n"
   ]
  },
  {
   "cell_type": "code",
   "execution_count": 14,
   "metadata": {},
   "outputs": [
    {
     "name": "stdout",
     "output_type": "stream",
     "text": [
      "Epoch 1/5\n",
      "4/4 - 389s - loss: 7.6246 - accuracy: 0.5000 - precision: 0.5000 - recall: 1.0000 - 389s/epoch - 97s/step\n",
      "Epoch 2/5\n",
      "4/4 - 348s - loss: 7.7721 - accuracy: 0.4750 - precision: 0.4870 - recall: 0.9333 - 348s/epoch - 87s/step\n",
      "Epoch 3/5\n",
      "4/4 - 383s - loss: 6.6587 - accuracy: 0.5500 - precision: 0.5375 - recall: 0.7167 - 383s/epoch - 96s/step\n",
      "Epoch 4/5\n",
      "4/4 - 343s - loss: 7.5552 - accuracy: 0.4583 - precision: 0.4138 - recall: 0.2000 - 343s/epoch - 86s/step\n",
      "Epoch 5/5\n",
      "4/4 - 406s - loss: 7.7125 - accuracy: 0.5000 - precision: 0.0000e+00 - recall: 0.0000e+00 - 406s/epoch - 102s/step\n"
     ]
    },
    {
     "data": {
      "text/plain": [
       "<keras.callbacks.History at 0x2e5309896f0>"
      ]
     },
     "execution_count": 14,
     "metadata": {},
     "output_type": "execute_result"
    }
   ],
   "source": [
    "# Setting epoch as 5, due to  high time consuming trianing process\n",
    "model1.fit(\n",
    "    x_train_text,\n",
    "    y_train,\n",
    "    epochs=5,\n",
    "    shuffle=True,\n",
    "    verbose=2,\n",
    "    \n",
    ")"
   ]
  },
  {
   "cell_type": "code",
   "execution_count": 19,
   "metadata": {},
   "outputs": [
    {
     "name": "stdout",
     "output_type": "stream",
     "text": [
      "2/2 [==============================] - 9s 2s/step - loss: 6.1700 - accuracy: 0.6000 - precision: 0.0000e+00 - recall: 0.0000e+00\n"
     ]
    },
    {
     "data": {
      "text/plain": [
       "[6.169979572296143, 0.6000000238418579, 0.0, 0.0]"
      ]
     },
     "execution_count": 19,
     "metadata": {},
     "output_type": "execute_result"
    }
   ],
   "source": [
    "model1.evaluate(x_val, y_val)"
   ]
  },
  {
   "cell_type": "code",
   "execution_count": 22,
   "metadata": {},
   "outputs": [],
   "source": [
    "df=final_data\n",
    "df_zeroes = df[df['label'] == 0]\n",
    "df_ones = df[df['label'] == 1]\n",
    "\n",
    "# Sample 5 rows from each DataFrame\n",
    "df_zeroes_sampled = df_zeroes.sample(n=10, random_state=42)\n",
    "df_ones_sampled = df_ones.sample(n=10, random_state=42)\n",
    "\n",
    "# Concatenate the two DataFrames\n",
    "df_sampled = pd.concat([df_zeroes_sampled, df_ones_sampled])\n",
    "df_sampled\n",
    "l1=df_sampled['label']\n",
    "f1=df_sampled.drop('label',axis=1)"
   ]
  },
  {
   "cell_type": "code",
   "execution_count": 22,
   "metadata": {},
   "outputs": [
    {
     "name": "stdout",
     "output_type": "stream",
     "text": [
      "2/2 [==============================] - 8s 2s/step\n"
     ]
    },
    {
     "data": {
      "text/plain": [
       "Text(50.722222222222214, 0.5, 'Truth')"
      ]
     },
     "execution_count": 22,
     "metadata": {},
     "output_type": "execute_result"
    },
    {
     "data": {
      "image/png": "[encoded data removed]",
      "text/plain": [
       "<Figure size 640x480 with 2 Axes>"
      ]
     },
     "metadata": {},
     "output_type": "display_data"
    }
   ],
   "source": [
    "\n",
    "y_predicted=model1.predict(x_test)\n",
    "y_predicted = y_predicted.flatten()\n",
    "import numpy as np\n",
    "\n",
    "y_predicted = np.where(y_predicted > 0.5, 1, 0)\n",
    "y_predicted\n",
    "from sklearn.metrics import confusion_matrix, classification_report\n",
    "\n",
    "cm = confusion_matrix(y_test, y_predicted)\n",
    "from matplotlib import pyplot as plt\n",
    "import seaborn as sn\n",
    "sn.heatmap(cm, annot=True, fmt='d')\n",
    "plt.xlabel('Predicted')\n",
    "plt.ylabel('Truth')"
   ]
  },
  {
   "cell_type": "code",
   "execution_count": 23,
   "metadata": {},
   "outputs": [],
   "source": [
    "model1.save(\"D:/kaggle/AI_detect_model.h5\")"
   ]
  }
 ],
 "metadata": {
  "kernelspec": {
   "display_name": "tensorflow",
   "language": "python",
   "name": "python3"
  },
  "language_info": {
   "codemirror_mode": {
    "name": "ipython",
    "version": 3
   },
   "file_extension": ".py",
   "mimetype": "text/x-python",
   "name": "python",
   "nbconvert_exporter": "python",
   "pygments_lexer": "ipython3",
   "version": "3.10.13"
  }
 },
 "nbformat": 4,
 "nbformat_minor": 2
}
