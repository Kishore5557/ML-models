{
 "cells": [
  {
   "cell_type": "markdown",
   "metadata": {},
   "source": [
    "# Optimized AI detection model created by B.Kishore"
   ]
  },
  {
   "cell_type": "code",
   "execution_count": 1,
   "metadata": {},
   "outputs": [],
   "source": [
    "import pandas as pd \n",
    "import seaborn as sns\n",
    "import matplotlib as plt\n",
    "import tensorflow as tf\n",
    "from sklearn.model_selection import train_test_split"
   ]
  },
  {
   "cell_type": "code",
   "execution_count": 2,
   "metadata": {},
   "outputs": [
    {
     "data": {
      "text/plain": [
       "Text(0.5, 1.0, 'Generated Text')"
      ]
     },
     "execution_count": 2,
     "metadata": {},
     "output_type": "execute_result"
    },
    {
     "data": {
      "image/png": "[encoded data removed]",
      "text/plain": [
       "<Figure size 640x480 with 1 Axes>"
      ]
     },
     "metadata": {},
     "output_type": "display_data"
    }
   ],
   "source": [
    "# I cleaned the data beforehand\n",
    "data=pd.read_csv(\"D:/kaggle/final_data.csv\")\n",
    "sns.countplot(data=data, x=\"label\").set_title(\"Generated Text\")"
   ]
  },
  {
   "cell_type": "code",
   "execution_count": 3,
   "metadata": {},
   "outputs": [
    {
     "data": {
      "text/html": [
       "<div>\n",
       "<style scoped>\n",
       "    .dataframe tbody tr th:only-of-type {\n",
       "        vertical-align: middle;\n",
       "    }\n",
       "\n",
       "    .dataframe tbody tr th {\n",
       "        vertical-align: top;\n",
       "    }\n",
       "\n",
       "    .dataframe thead th {\n",
       "        text-align: right;\n",
       "    }\n",
       "</style>\n",
       "<table border=\"1\" class=\"dataframe\">\n",
       "  <thead>\n",
       "    <tr style=\"text-align: right;\">\n",
       "      <th></th>\n",
       "      <th>Unnamed: 0</th>\n",
       "      <th>text</th>\n",
       "      <th>label</th>\n",
       "      <th>source</th>\n",
       "      <th>prompt</th>\n",
       "    </tr>\n",
       "  </thead>\n",
       "  <tbody>\n",
       "    <tr>\n",
       "      <th>0</th>\n",
       "      <td>40745</td>\n",
       "      <td>It would be so much better if no one drove a c...</td>\n",
       "      <td>0</td>\n",
       "      <td>persuade_corpus</td>\n",
       "      <td>NaN</td>\n",
       "    </tr>\n",
       "    <tr>\n",
       "      <th>1</th>\n",
       "      <td>3665</td>\n",
       "      <td>People should make their own decisions to avoi...</td>\n",
       "      <td>0</td>\n",
       "      <td>original_moth</td>\n",
       "      <td>Task: \\n\\nWrite an essay about why people shou...</td>\n",
       "    </tr>\n",
       "    <tr>\n",
       "      <th>2</th>\n",
       "      <td>17386</td>\n",
       "      <td>Dear Principle,\\n\\nFebruary 9th, 2011\\n\\nI hav...</td>\n",
       "      <td>0</td>\n",
       "      <td>persuade_corpus</td>\n",
       "      <td>NaN</td>\n",
       "    </tr>\n",
       "    <tr>\n",
       "      <th>3</th>\n",
       "      <td>8119</td>\n",
       "      <td>All students should participate in extracurric...</td>\n",
       "      <td>0</td>\n",
       "      <td>persuade_corpus</td>\n",
       "      <td>NaN</td>\n",
       "    </tr>\n",
       "    <tr>\n",
       "      <th>4</th>\n",
       "      <td>15309</td>\n",
       "      <td>Fellow citizens should know the advantages of ...</td>\n",
       "      <td>0</td>\n",
       "      <td>persuade_corpus</td>\n",
       "      <td>NaN</td>\n",
       "    </tr>\n",
       "    <tr>\n",
       "      <th>...</th>\n",
       "      <td>...</td>\n",
       "      <td>...</td>\n",
       "      <td>...</td>\n",
       "      <td>...</td>\n",
       "      <td>...</td>\n",
       "    </tr>\n",
       "    <tr>\n",
       "      <th>24823</th>\n",
       "      <td>42190</td>\n",
       "      <td>I think our principal's idea of making us do e...</td>\n",
       "      <td>1</td>\n",
       "      <td>llama_70b_v1</td>\n",
       "      <td>Your principal has decided that all students m...</td>\n",
       "    </tr>\n",
       "    <tr>\n",
       "      <th>24824</th>\n",
       "      <td>42191</td>\n",
       "      <td>I think it's a good idea for schools to have o...</td>\n",
       "      <td>1</td>\n",
       "      <td>falcon_180b_v1</td>\n",
       "      <td>Some schools have implemented policies that al...</td>\n",
       "    </tr>\n",
       "    <tr>\n",
       "      <th>24825</th>\n",
       "      <td>42196</td>\n",
       "      <td>Students often debate whether inactivity or s...</td>\n",
       "      <td>1</td>\n",
       "      <td>mistral7binstruct_v2</td>\n",
       "      <td>\\nTask: Research the benefits of staying occup...</td>\n",
       "    </tr>\n",
       "    <tr>\n",
       "      <th>24826</th>\n",
       "      <td>42199</td>\n",
       "      <td>Advantages of Limiting Car Usage\\n\\nLimiting c...</td>\n",
       "      <td>1</td>\n",
       "      <td>radek_500</td>\n",
       "      <td>NaN</td>\n",
       "    </tr>\n",
       "    <tr>\n",
       "      <th>24827</th>\n",
       "      <td>42203</td>\n",
       "      <td>The Face on Mars is a fascinating phenomenon t...</td>\n",
       "      <td>1</td>\n",
       "      <td>falcon_180b_v1</td>\n",
       "      <td>You have read the article 'Unmasking the Face ...</td>\n",
       "    </tr>\n",
       "  </tbody>\n",
       "</table>\n",
       "<p>24828 rows × 5 columns</p>\n",
       "</div>"
      ],
      "text/plain": [
       "       Unnamed: 0                                               text  label  \\\n",
       "0           40745  It would be so much better if no one drove a c...      0   \n",
       "1            3665  People should make their own decisions to avoi...      0   \n",
       "2           17386  Dear Principle,\\n\\nFebruary 9th, 2011\\n\\nI hav...      0   \n",
       "3            8119  All students should participate in extracurric...      0   \n",
       "4           15309  Fellow citizens should know the advantages of ...      0   \n",
       "...           ...                                                ...    ...   \n",
       "24823       42190  I think our principal's idea of making us do e...      1   \n",
       "24824       42191  I think it's a good idea for schools to have o...      1   \n",
       "24825       42196   Students often debate whether inactivity or s...      1   \n",
       "24826       42199  Advantages of Limiting Car Usage\\n\\nLimiting c...      1   \n",
       "24827       42203  The Face on Mars is a fascinating phenomenon t...      1   \n",
       "\n",
       "                     source                                             prompt  \n",
       "0           persuade_corpus                                                NaN  \n",
       "1             original_moth  Task: \\n\\nWrite an essay about why people shou...  \n",
       "2           persuade_corpus                                                NaN  \n",
       "3           persuade_corpus                                                NaN  \n",
       "4           persuade_corpus                                                NaN  \n",
       "...                     ...                                                ...  \n",
       "24823          llama_70b_v1  Your principal has decided that all students m...  \n",
       "24824        falcon_180b_v1  Some schools have implemented policies that al...  \n",
       "24825  mistral7binstruct_v2  \\nTask: Research the benefits of staying occup...  \n",
       "24826             radek_500                                                NaN  \n",
       "24827        falcon_180b_v1  You have read the article 'Unmasking the Face ...  \n",
       "\n",
       "[24828 rows x 5 columns]"
      ]
     },
     "execution_count": 3,
     "metadata": {},
     "output_type": "execute_result"
    }
   ],
   "source": [
    "data"
   ]
  },
  {
   "cell_type": "code",
   "execution_count": null,
   "metadata": {},
   "outputs": [],
   "source": [
    "# Finding the maximum length of words repeated in the column to limit the preprocessing"
   ]
  },
  {
   "cell_type": "code",
   "execution_count": 3,
   "metadata": {},
   "outputs": [],
   "source": [
    "df= data['text'].apply(lambda x: len(x.split()))\n"
   ]
  },
  {
   "cell_type": "code",
   "execution_count": 4,
   "metadata": {},
   "outputs": [
    {
     "data": {
      "text/plain": [
       "Text(0.5, 0.98, 'Distribution of the text length')"
      ]
     },
     "execution_count": 4,
     "metadata": {},
     "output_type": "execute_result"
    },
    {
     "data": {
      "image/png": "[encoded data removed]",
      "text/plain": [
       "<Figure size 500x500 with 1 Axes>"
      ]
     },
     "metadata": {},
     "output_type": "display_data"
    }
   ],
   "source": [
    "len=sns.displot(df,bins=30,kde=True)\n",
    "len.fig.suptitle(\"Distribution of the text length\")"
   ]
  },
  {
   "cell_type": "code",
   "execution_count": 6,
   "metadata": {},
   "outputs": [
    {
     "data": {
      "text/plain": [
       "369.87050910262604"
      ]
     },
     "execution_count": 6,
     "metadata": {},
     "output_type": "execute_result"
    }
   ],
   "source": [
    "df.mean()"
   ]
  },
  {
   "cell_type": "code",
   "execution_count": 7,
   "metadata": {},
   "outputs": [],
   "source": [
    "max_len=370"
   ]
  },
  {
   "cell_type": "code",
   "execution_count": 8,
   "metadata": {},
   "outputs": [
    {
     "data": {
      "text/html": [
       "<div>\n",
       "<style scoped>\n",
       "    .dataframe tbody tr th:only-of-type {\n",
       "        vertical-align: middle;\n",
       "    }\n",
       "\n",
       "    .dataframe tbody tr th {\n",
       "        vertical-align: top;\n",
       "    }\n",
       "\n",
       "    .dataframe thead th {\n",
       "        text-align: right;\n",
       "    }\n",
       "</style>\n",
       "<table border=\"1\" class=\"dataframe\">\n",
       "  <thead>\n",
       "    <tr style=\"text-align: right;\">\n",
       "      <th></th>\n",
       "      <th>text</th>\n",
       "    </tr>\n",
       "  </thead>\n",
       "  <tbody>\n",
       "    <tr>\n",
       "      <th>0</th>\n",
       "      <td>It would be so much better if no one drove a c...</td>\n",
       "    </tr>\n",
       "    <tr>\n",
       "      <th>1</th>\n",
       "      <td>People should make their own decisions to avoi...</td>\n",
       "    </tr>\n",
       "    <tr>\n",
       "      <th>2</th>\n",
       "      <td>Dear Principle,\\n\\nFebruary 9th, 2011\\n\\nI hav...</td>\n",
       "    </tr>\n",
       "    <tr>\n",
       "      <th>3</th>\n",
       "      <td>All students should participate in extracurric...</td>\n",
       "    </tr>\n",
       "    <tr>\n",
       "      <th>4</th>\n",
       "      <td>Fellow citizens should know the advantages of ...</td>\n",
       "    </tr>\n",
       "    <tr>\n",
       "      <th>...</th>\n",
       "      <td>...</td>\n",
       "    </tr>\n",
       "    <tr>\n",
       "      <th>24823</th>\n",
       "      <td>I think our principal's idea of making us do e...</td>\n",
       "    </tr>\n",
       "    <tr>\n",
       "      <th>24824</th>\n",
       "      <td>I think it's a good idea for schools to have o...</td>\n",
       "    </tr>\n",
       "    <tr>\n",
       "      <th>24825</th>\n",
       "      <td>Students often debate whether inactivity or s...</td>\n",
       "    </tr>\n",
       "    <tr>\n",
       "      <th>24826</th>\n",
       "      <td>Advantages of Limiting Car Usage\\n\\nLimiting c...</td>\n",
       "    </tr>\n",
       "    <tr>\n",
       "      <th>24827</th>\n",
       "      <td>The Face on Mars is a fascinating phenomenon t...</td>\n",
       "    </tr>\n",
       "  </tbody>\n",
       "</table>\n",
       "<p>24828 rows × 1 columns</p>\n",
       "</div>"
      ],
      "text/plain": [
       "                                                    text\n",
       "0      It would be so much better if no one drove a c...\n",
       "1      People should make their own decisions to avoi...\n",
       "2      Dear Principle,\\n\\nFebruary 9th, 2011\\n\\nI hav...\n",
       "3      All students should participate in extracurric...\n",
       "4      Fellow citizens should know the advantages of ...\n",
       "...                                                  ...\n",
       "24823  I think our principal's idea of making us do e...\n",
       "24824  I think it's a good idea for schools to have o...\n",
       "24825   Students often debate whether inactivity or s...\n",
       "24826  Advantages of Limiting Car Usage\\n\\nLimiting c...\n",
       "24827  The Face on Mars is a fascinating phenomenon t...\n",
       "\n",
       "[24828 rows x 1 columns]"
      ]
     },
     "execution_count": 8,
     "metadata": {},
     "output_type": "execute_result"
    }
   ],
   "source": [
    "labels=data['label']\n",
    "features=data.drop(['source','label','prompt','Unnamed: 0'],axis=1)\n",
    "features"
   ]
  },
  {
   "cell_type": "code",
   "execution_count": 9,
   "metadata": {},
   "outputs": [],
   "source": [
    "# Split train,validatate,test data\n",
    "x_train, x_test, y_train, y_test = train_test_split(features, labels, test_size = 0.4, random_state = 42)\n",
    "x_test,x_val,y_test,y_val=train_test_split(x_test,y_test,test_size=0.5,random_state=42)"
   ]
  },
  {
   "cell_type": "code",
   "execution_count": 10,
   "metadata": {},
   "outputs": [
    {
     "name": "stderr",
     "output_type": "stream",
     "text": [
      "d:\\anaconda\\envs\\tensorflow\\lib\\site-packages\\tqdm\\auto.py:21: TqdmWarning: IProgress not found. Please update jupyter and ipywidgets. See https://ipywidgets.readthedocs.io/en/stable/user_install.html\n",
      "  from .autonotebook import tqdm as notebook_tqdm\n"
     ]
    },
    {
     "data": {
      "text/plain": [
       "True"
      ]
     },
     "execution_count": 10,
     "metadata": {},
     "output_type": "execute_result"
    }
   ],
   "source": [
    "from transformers import AutoTokenizer\n",
    "tokenizer = AutoTokenizer.from_pretrained('distilbert-base-uncased')\n",
    "tokenizer.is_fast"
   ]
  },
  {
   "cell_type": "code",
   "execution_count": 11,
   "metadata": {},
   "outputs": [
    {
     "data": {
      "text/html": [
       "<div>\n",
       "<style scoped>\n",
       "    .dataframe tbody tr th:only-of-type {\n",
       "        vertical-align: middle;\n",
       "    }\n",
       "\n",
       "    .dataframe tbody tr th {\n",
       "        vertical-align: top;\n",
       "    }\n",
       "\n",
       "    .dataframe thead th {\n",
       "        text-align: right;\n",
       "    }\n",
       "</style>\n",
       "<table border=\"1\" class=\"dataframe\">\n",
       "  <thead>\n",
       "    <tr style=\"text-align: right;\">\n",
       "      <th></th>\n",
       "      <th>text</th>\n",
       "    </tr>\n",
       "  </thead>\n",
       "  <tbody>\n",
       "    <tr>\n",
       "      <th>13298</th>\n",
       "      <td>Title: The Power of Positivity: Unlocking Succ...</td>\n",
       "    </tr>\n",
       "    <tr>\n",
       "      <th>22091</th>\n",
       "      <td>As an eighth-grade student, I have always been...</td>\n",
       "    </tr>\n",
       "    <tr>\n",
       "      <th>19809</th>\n",
       "      <td>Someone who has shared wisdom and experience ...</td>\n",
       "    </tr>\n",
       "    <tr>\n",
       "      <th>17841</th>\n",
       "      <td>Libraries have been around for centurys and th...</td>\n",
       "    </tr>\n",
       "    <tr>\n",
       "      <th>17454</th>\n",
       "      <td>Learning something new can be challenging, bu...</td>\n",
       "    </tr>\n",
       "    <tr>\n",
       "      <th>...</th>\n",
       "      <td>...</td>\n",
       "    </tr>\n",
       "    <tr>\n",
       "      <th>21575</th>\n",
       "      <td>As an eighth-grade student, I have always been...</td>\n",
       "    </tr>\n",
       "    <tr>\n",
       "      <th>5390</th>\n",
       "      <td>Phones &amp; Driving\\n\\nDriving people should be a...</td>\n",
       "    </tr>\n",
       "    <tr>\n",
       "      <th>860</th>\n",
       "      <td>Value of Face Action Coding Systems in Schools...</td>\n",
       "    </tr>\n",
       "    <tr>\n",
       "      <th>15795</th>\n",
       "      <td>Advantages of Limiting Car Usage\\n\\nLimiting c...</td>\n",
       "    </tr>\n",
       "    <tr>\n",
       "      <th>23654</th>\n",
       "      <td>The Facial Action Coding System (FACS) is a gr...</td>\n",
       "    </tr>\n",
       "  </tbody>\n",
       "</table>\n",
       "<p>14896 rows × 1 columns</p>\n",
       "</div>"
      ],
      "text/plain": [
       "                                                    text\n",
       "13298  Title: The Power of Positivity: Unlocking Succ...\n",
       "22091  As an eighth-grade student, I have always been...\n",
       "19809   Someone who has shared wisdom and experience ...\n",
       "17841  Libraries have been around for centurys and th...\n",
       "17454   Learning something new can be challenging, bu...\n",
       "...                                                  ...\n",
       "21575  As an eighth-grade student, I have always been...\n",
       "5390   Phones & Driving\\n\\nDriving people should be a...\n",
       "860    Value of Face Action Coding Systems in Schools...\n",
       "15795  Advantages of Limiting Car Usage\\n\\nLimiting c...\n",
       "23654  The Facial Action Coding System (FACS) is a gr...\n",
       "\n",
       "[14896 rows x 1 columns]"
      ]
     },
     "execution_count": 11,
     "metadata": {},
     "output_type": "execute_result"
    }
   ],
   "source": [
    "#Converting the csv data to dataframe and then converting into list of strings. The list in strings converted to tensorflow objects\n",
    "x_train = pd.DataFrame(x_train)\n",
    "x_train\n"
   ]
  },
  {
   "cell_type": "code",
   "execution_count": 12,
   "metadata": {},
   "outputs": [],
   "source": [
    "x_test=pd.DataFrame(x_test)\n"
   ]
  },
  {
   "cell_type": "code",
   "execution_count": 14,
   "metadata": {},
   "outputs": [],
   "source": [
    "# Tokenizing the texts\n",
    "train_encodings = tokenizer(list(x_train['text']), truncation=True, padding=True, max_length=max_len)\n",
    "\n",
    "test_encodings = tokenizer(list(x_test['text']), truncation=True, padding=True,max_length = max_len)"
   ]
  },
  {
   "cell_type": "code",
   "execution_count": 17,
   "metadata": {},
   "outputs": [],
   "source": [
    "# Converting tokenized text to tensor objects\n",
    "import tensorflow as tf\n",
    "\n",
    "train_dataset = tf.data.Dataset.from_tensor_slices((\n",
    "    dict(train_encodings),\n",
    "    list(y_train)\n",
    "))\n",
    "\n",
    "test_dataset = tf.data.Dataset.from_tensor_slices((\n",
    "    dict(test_encodings),\n",
    "    list(y_test)\n",
    "))"
   ]
  },
  {
   "cell_type": "code",
   "execution_count": 18,
   "metadata": {},
   "outputs": [],
   "source": [
    "#Loading pretrained distill bert base model for classiication\n",
    "\n",
    "from transformers import TFDistilBertForSequenceClassification, TFTrainer, TFTrainingArguments\n",
    "\n",
    "training_args = TFTrainingArguments(\n",
    "    output_dir='./results',          \n",
    "    num_train_epochs=1,              \n",
    "    per_device_train_batch_size=8,  \n",
    "    per_device_eval_batch_size=16,   \n",
    "    warmup_steps=500,                \n",
    "    weight_decay=0.01,               \n",
    "    logging_dir='./logs',             \n",
    "    logging_steps=10,\n",
    "    eval_steps= 3\n",
    "    )\n"
   ]
  },
  {
   "cell_type": "code",
   "execution_count": 19,
   "metadata": {},
   "outputs": [
    {
     "name": "stderr",
     "output_type": "stream",
     "text": [
      "Some weights of the PyTorch model were not used when initializing the TF 2.0 model TFDistilBertForSequenceClassification: ['vocab_layer_norm.weight', 'vocab_projector.bias', 'vocab_transform.weight', 'vocab_layer_norm.bias', 'vocab_transform.bias']\n",
      "- This IS expected if you are initializing TFDistilBertForSequenceClassification from a PyTorch model trained on another task or with another architecture (e.g. initializing a TFBertForSequenceClassification model from a BertForPreTraining model).\n",
      "- This IS NOT expected if you are initializing TFDistilBertForSequenceClassification from a PyTorch model that you expect to be exactly identical (e.g. initializing a TFBertForSequenceClassification model from a BertForSequenceClassification model).\n",
      "Some weights or buffers of the TF 2.0 model TFDistilBertForSequenceClassification were not initialized from the PyTorch model and are newly initialized: ['pre_classifier.weight', 'pre_classifier.bias', 'classifier.weight', 'classifier.bias']\n",
      "You should probably TRAIN this model on a down-stream task to be able to use it for predictions and inference.\n",
      "d:\\anaconda\\envs\\tensorflow\\lib\\site-packages\\transformers\\trainer_tf.py:118: FutureWarning: The class `TFTrainer` is deprecated and will be removed in version 5 of Transformers. We recommend using native Keras instead, by calling methods like `fit()` and `predict()` directly on the model object. Detailed examples of the Keras style can be found in our examples at https://github.com/huggingface/transformers/tree/main/examples/tensorflow\n",
      "  warnings.warn(\n"
     ]
    }
   ],
   "source": [
    "\n",
    "with training_args.strategy.scope():\n",
    "    model = TFDistilBertForSequenceClassification.from_pretrained(\"distilbert-base-uncased\")\n",
    "\n",
    "trainer = TFTrainer(\n",
    "    model=model,                         \n",
    "    args=training_args,                 \n",
    "    train_dataset=train_dataset,         \n",
    "    eval_dataset=test_dataset            \n",
    ")\n",
    "\n"
   ]
  },
  {
   "cell_type": "code",
   "execution_count": 20,
   "metadata": {},
   "outputs": [],
   "source": [
    "trainer.train()      "
   ]
  },
  {
   "cell_type": "code",
   "execution_count": 21,
   "metadata": {},
   "outputs": [
    {
     "data": {
      "text/plain": [
       "{'eval_loss': 0.03434547657368651}"
      ]
     },
     "execution_count": 21,
     "metadata": {},
     "output_type": "execute_result"
    }
   ],
   "source": [
    " trainer.evaluate(test_dataset)"
   ]
  },
  {
   "cell_type": "code",
   "execution_count": 22,
   "metadata": {},
   "outputs": [
    {
     "data": {
      "text/plain": [
       "PredictionOutput(predictions=array([[-3.7602203,  3.6157956],\n",
       "       [-4.0860043,  3.9017167],\n",
       "       [-4.149234 ,  4.0109267],\n",
       "       ...,\n",
       "       [-4.1834292,  4.0218105],\n",
       "       [ 2.8993661, -2.7394037],\n",
       "       [-4.1727214,  4.020747 ]], dtype=float32), label_ids=array([1, 1, 1, ..., 1, 0, 1]), metrics={'eval_loss': 0.034331717291828906})"
      ]
     },
     "execution_count": 22,
     "metadata": {},
     "output_type": "execute_result"
    }
   ],
   "source": [
    "trainer.predict(test_dataset)"
   ]
  },
  {
   "cell_type": "code",
   "execution_count": 23,
   "metadata": {},
   "outputs": [],
   "source": [
    "output=trainer.predict(test_dataset)[1]"
   ]
  },
  {
   "cell_type": "code",
   "execution_count": 34,
   "metadata": {},
   "outputs": [
    {
     "data": {
      "text/plain": [
       "Text(0.5, 1.0, 'Confusion Matrix')"
      ]
     },
     "execution_count": 34,
     "metadata": {},
     "output_type": "execute_result"
    },
    {
     "data": {
      "image/png": "[encoded data removed]",
      "text/plain": [
       "<Figure size 640x480 with 2 Axes>"
      ]
     },
     "metadata": {},
     "output_type": "display_data"
    }
   ],
   "source": [
    "# VIsualize the prediction accuracy using confusion matrix\n",
    "from sklearn.metrics import confusion_matrix\n",
    "from matplotlib import pyplot as plt\n",
    "cm=confusion_matrix(y_test,output)\n",
    "sns.heatmap(cm, annot=True, fmt='d')\n",
    "plt.xlabel('Predicted')\n",
    "plt.ylabel('Truth')\n",
    "plt.title('Confusion Matrix')"
   ]
  },
  {
   "cell_type": "code",
   "execution_count": 32,
   "metadata": {},
   "outputs": [],
   "source": [
    "trainer.save_model(\"D:/kaggle/Optimised_AI_detect_model\")"
   ]
  },
  {
   "cell_type": "code",
   "execution_count": null,
   "metadata": {},
   "outputs": [],
   "source": [
    "print(\"predictions shape:\", predictions.shape)"
   ]
  }
 ],
 "metadata": {
  "kernelspec": {
   "display_name": "tensorflow",
   "language": "python",
   "name": "python3"
  },
  "language_info": {
   "codemirror_mode": {
    "name": "ipython",
    "version": 3
   },
   "file_extension": ".py",
   "mimetype": "text/x-python",
   "name": "python",
   "nbconvert_exporter": "python",
   "pygments_lexer": "ipython3",
   "version": "3.10.13"
  }
 },
 "nbformat": 4,
 "nbformat_minor": 2
}
